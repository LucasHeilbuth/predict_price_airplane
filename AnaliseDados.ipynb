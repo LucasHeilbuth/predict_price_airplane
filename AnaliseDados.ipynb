{
  "nbformat": 4,
  "nbformat_minor": 0,
  "metadata": {
    "colab": {
      "provenance": [],
      "collapsed_sections": []
    },
    "kernelspec": {
      "name": "python3",
      "display_name": "Python 3"
    },
    "language_info": {
      "name": "python"
    }
  },
  "cells": [
    {
      "cell_type": "markdown",
      "source": [
        "# Importar Tabela\n"
      ],
      "metadata": {
        "id": "KNnwONqIcp6K"
      }
    },
    {
      "cell_type": "code",
      "execution_count": null,
      "metadata": {
        "colab": {
          "base_uri": "https://localhost:8080/"
        },
        "id": "qGwRrUpvPY7o",
        "outputId": "06baf395-9514-42c0-d6c2-8ea0b09e843b"
      },
      "outputs": [
        {
          "output_type": "stream",
          "name": "stdout",
          "text": [
            "Mounted at /content/drive\n"
          ]
        }
      ],
      "source": [
        "from google.colab import drive\n",
        "drive.mount('/content/drive')"
      ]
    },
    {
      "cell_type": "code",
      "source": [
        "import pandas as pd\n",
        "import seaborn as sns\n",
        "import matplotlib.pyplot as plt\n",
        "import numpy as np\n",
        "\n",
        "\n",
        "df = pd.read_csv('/content/drive/My Drive/ProjetoEspecializado/Dataset/clean.csv')\n",
        "df.drop(['Unnamed: 0', 'flight'], axis=1, inplace=True) \n",
        "\n",
        "display(df)"
      ],
      "metadata": {
        "colab": {
          "base_uri": "https://localhost:8080/",
          "height": 424
        },
        "id": "Wi1AdnFDPoEN",
        "outputId": "adf358b9-5f90-47b0-a346-81d909ebd574"
      },
      "execution_count": null,
      "outputs": [
        {
          "output_type": "display_data",
          "data": {
            "text/plain": [
              "         airline source_city departure_time stops   arrival_time  \\\n",
              "0       SpiceJet       Delhi        Evening  zero          Night   \n",
              "1       SpiceJet       Delhi  Early_Morning  zero        Morning   \n",
              "2        AirAsia       Delhi  Early_Morning  zero  Early_Morning   \n",
              "3        Vistara       Delhi        Morning  zero      Afternoon   \n",
              "4        Vistara       Delhi        Morning  zero        Morning   \n",
              "...          ...         ...            ...   ...            ...   \n",
              "300148   Vistara     Chennai        Morning   one        Evening   \n",
              "300149   Vistara     Chennai      Afternoon   one          Night   \n",
              "300150   Vistara     Chennai  Early_Morning   one          Night   \n",
              "300151   Vistara     Chennai  Early_Morning   one        Evening   \n",
              "300152   Vistara     Chennai        Morning   one        Evening   \n",
              "\n",
              "       destination_city     class  duration  days_left  price  \n",
              "0                Mumbai   Economy      2.17          1   5953  \n",
              "1                Mumbai   Economy      2.33          1   5953  \n",
              "2                Mumbai   Economy      2.17          1   5956  \n",
              "3                Mumbai   Economy      2.25          1   5955  \n",
              "4                Mumbai   Economy      2.33          1   5955  \n",
              "...                 ...       ...       ...        ...    ...  \n",
              "300148        Hyderabad  Business     10.08         49  69265  \n",
              "300149        Hyderabad  Business     10.42         49  77105  \n",
              "300150        Hyderabad  Business     13.83         49  79099  \n",
              "300151        Hyderabad  Business     10.00         49  81585  \n",
              "300152        Hyderabad  Business     10.08         49  81585  \n",
              "\n",
              "[300153 rows x 10 columns]"
            ],
            "text/html": [
              "\n",
              "  <div id=\"df-88c9738f-2f29-40d7-b48a-6767b337662d\">\n",
              "    <div class=\"colab-df-container\">\n",
              "      <div>\n",
              "<style scoped>\n",
              "    .dataframe tbody tr th:only-of-type {\n",
              "        vertical-align: middle;\n",
              "    }\n",
              "\n",
              "    .dataframe tbody tr th {\n",
              "        vertical-align: top;\n",
              "    }\n",
              "\n",
              "    .dataframe thead th {\n",
              "        text-align: right;\n",
              "    }\n",
              "</style>\n",
              "<table border=\"1\" class=\"dataframe\">\n",
              "  <thead>\n",
              "    <tr style=\"text-align: right;\">\n",
              "      <th></th>\n",
              "      <th>airline</th>\n",
              "      <th>source_city</th>\n",
              "      <th>departure_time</th>\n",
              "      <th>stops</th>\n",
              "      <th>arrival_time</th>\n",
              "      <th>destination_city</th>\n",
              "      <th>class</th>\n",
              "      <th>duration</th>\n",
              "      <th>days_left</th>\n",
              "      <th>price</th>\n",
              "    </tr>\n",
              "  </thead>\n",
              "  <tbody>\n",
              "    <tr>\n",
              "      <th>0</th>\n",
              "      <td>SpiceJet</td>\n",
              "      <td>Delhi</td>\n",
              "      <td>Evening</td>\n",
              "      <td>zero</td>\n",
              "      <td>Night</td>\n",
              "      <td>Mumbai</td>\n",
              "      <td>Economy</td>\n",
              "      <td>2.17</td>\n",
              "      <td>1</td>\n",
              "      <td>5953</td>\n",
              "    </tr>\n",
              "    <tr>\n",
              "      <th>1</th>\n",
              "      <td>SpiceJet</td>\n",
              "      <td>Delhi</td>\n",
              "      <td>Early_Morning</td>\n",
              "      <td>zero</td>\n",
              "      <td>Morning</td>\n",
              "      <td>Mumbai</td>\n",
              "      <td>Economy</td>\n",
              "      <td>2.33</td>\n",
              "      <td>1</td>\n",
              "      <td>5953</td>\n",
              "    </tr>\n",
              "    <tr>\n",
              "      <th>2</th>\n",
              "      <td>AirAsia</td>\n",
              "      <td>Delhi</td>\n",
              "      <td>Early_Morning</td>\n",
              "      <td>zero</td>\n",
              "      <td>Early_Morning</td>\n",
              "      <td>Mumbai</td>\n",
              "      <td>Economy</td>\n",
              "      <td>2.17</td>\n",
              "      <td>1</td>\n",
              "      <td>5956</td>\n",
              "    </tr>\n",
              "    <tr>\n",
              "      <th>3</th>\n",
              "      <td>Vistara</td>\n",
              "      <td>Delhi</td>\n",
              "      <td>Morning</td>\n",
              "      <td>zero</td>\n",
              "      <td>Afternoon</td>\n",
              "      <td>Mumbai</td>\n",
              "      <td>Economy</td>\n",
              "      <td>2.25</td>\n",
              "      <td>1</td>\n",
              "      <td>5955</td>\n",
              "    </tr>\n",
              "    <tr>\n",
              "      <th>4</th>\n",
              "      <td>Vistara</td>\n",
              "      <td>Delhi</td>\n",
              "      <td>Morning</td>\n",
              "      <td>zero</td>\n",
              "      <td>Morning</td>\n",
              "      <td>Mumbai</td>\n",
              "      <td>Economy</td>\n",
              "      <td>2.33</td>\n",
              "      <td>1</td>\n",
              "      <td>5955</td>\n",
              "    </tr>\n",
              "    <tr>\n",
              "      <th>...</th>\n",
              "      <td>...</td>\n",
              "      <td>...</td>\n",
              "      <td>...</td>\n",
              "      <td>...</td>\n",
              "      <td>...</td>\n",
              "      <td>...</td>\n",
              "      <td>...</td>\n",
              "      <td>...</td>\n",
              "      <td>...</td>\n",
              "      <td>...</td>\n",
              "    </tr>\n",
              "    <tr>\n",
              "      <th>300148</th>\n",
              "      <td>Vistara</td>\n",
              "      <td>Chennai</td>\n",
              "      <td>Morning</td>\n",
              "      <td>one</td>\n",
              "      <td>Evening</td>\n",
              "      <td>Hyderabad</td>\n",
              "      <td>Business</td>\n",
              "      <td>10.08</td>\n",
              "      <td>49</td>\n",
              "      <td>69265</td>\n",
              "    </tr>\n",
              "    <tr>\n",
              "      <th>300149</th>\n",
              "      <td>Vistara</td>\n",
              "      <td>Chennai</td>\n",
              "      <td>Afternoon</td>\n",
              "      <td>one</td>\n",
              "      <td>Night</td>\n",
              "      <td>Hyderabad</td>\n",
              "      <td>Business</td>\n",
              "      <td>10.42</td>\n",
              "      <td>49</td>\n",
              "      <td>77105</td>\n",
              "    </tr>\n",
              "    <tr>\n",
              "      <th>300150</th>\n",
              "      <td>Vistara</td>\n",
              "      <td>Chennai</td>\n",
              "      <td>Early_Morning</td>\n",
              "      <td>one</td>\n",
              "      <td>Night</td>\n",
              "      <td>Hyderabad</td>\n",
              "      <td>Business</td>\n",
              "      <td>13.83</td>\n",
              "      <td>49</td>\n",
              "      <td>79099</td>\n",
              "    </tr>\n",
              "    <tr>\n",
              "      <th>300151</th>\n",
              "      <td>Vistara</td>\n",
              "      <td>Chennai</td>\n",
              "      <td>Early_Morning</td>\n",
              "      <td>one</td>\n",
              "      <td>Evening</td>\n",
              "      <td>Hyderabad</td>\n",
              "      <td>Business</td>\n",
              "      <td>10.00</td>\n",
              "      <td>49</td>\n",
              "      <td>81585</td>\n",
              "    </tr>\n",
              "    <tr>\n",
              "      <th>300152</th>\n",
              "      <td>Vistara</td>\n",
              "      <td>Chennai</td>\n",
              "      <td>Morning</td>\n",
              "      <td>one</td>\n",
              "      <td>Evening</td>\n",
              "      <td>Hyderabad</td>\n",
              "      <td>Business</td>\n",
              "      <td>10.08</td>\n",
              "      <td>49</td>\n",
              "      <td>81585</td>\n",
              "    </tr>\n",
              "  </tbody>\n",
              "</table>\n",
              "<p>300153 rows × 10 columns</p>\n",
              "</div>\n",
              "      <button class=\"colab-df-convert\" onclick=\"convertToInteractive('df-88c9738f-2f29-40d7-b48a-6767b337662d')\"\n",
              "              title=\"Convert this dataframe to an interactive table.\"\n",
              "              style=\"display:none;\">\n",
              "        \n",
              "  <svg xmlns=\"http://www.w3.org/2000/svg\" height=\"24px\"viewBox=\"0 0 24 24\"\n",
              "       width=\"24px\">\n",
              "    <path d=\"M0 0h24v24H0V0z\" fill=\"none\"/>\n",
              "    <path d=\"M18.56 5.44l.94 2.06.94-2.06 2.06-.94-2.06-.94-.94-2.06-.94 2.06-2.06.94zm-11 1L8.5 8.5l.94-2.06 2.06-.94-2.06-.94L8.5 2.5l-.94 2.06-2.06.94zm10 10l.94 2.06.94-2.06 2.06-.94-2.06-.94-.94-2.06-.94 2.06-2.06.94z\"/><path d=\"M17.41 7.96l-1.37-1.37c-.4-.4-.92-.59-1.43-.59-.52 0-1.04.2-1.43.59L10.3 9.45l-7.72 7.72c-.78.78-.78 2.05 0 2.83L4 21.41c.39.39.9.59 1.41.59.51 0 1.02-.2 1.41-.59l7.78-7.78 2.81-2.81c.8-.78.8-2.07 0-2.86zM5.41 20L4 18.59l7.72-7.72 1.47 1.35L5.41 20z\"/>\n",
              "  </svg>\n",
              "      </button>\n",
              "      \n",
              "  <style>\n",
              "    .colab-df-container {\n",
              "      display:flex;\n",
              "      flex-wrap:wrap;\n",
              "      gap: 12px;\n",
              "    }\n",
              "\n",
              "    .colab-df-convert {\n",
              "      background-color: #E8F0FE;\n",
              "      border: none;\n",
              "      border-radius: 50%;\n",
              "      cursor: pointer;\n",
              "      display: none;\n",
              "      fill: #1967D2;\n",
              "      height: 32px;\n",
              "      padding: 0 0 0 0;\n",
              "      width: 32px;\n",
              "    }\n",
              "\n",
              "    .colab-df-convert:hover {\n",
              "      background-color: #E2EBFA;\n",
              "      box-shadow: 0px 1px 2px rgba(60, 64, 67, 0.3), 0px 1px 3px 1px rgba(60, 64, 67, 0.15);\n",
              "      fill: #174EA6;\n",
              "    }\n",
              "\n",
              "    [theme=dark] .colab-df-convert {\n",
              "      background-color: #3B4455;\n",
              "      fill: #D2E3FC;\n",
              "    }\n",
              "\n",
              "    [theme=dark] .colab-df-convert:hover {\n",
              "      background-color: #434B5C;\n",
              "      box-shadow: 0px 1px 3px 1px rgba(0, 0, 0, 0.15);\n",
              "      filter: drop-shadow(0px 1px 2px rgba(0, 0, 0, 0.3));\n",
              "      fill: #FFFFFF;\n",
              "    }\n",
              "  </style>\n",
              "\n",
              "      <script>\n",
              "        const buttonEl =\n",
              "          document.querySelector('#df-88c9738f-2f29-40d7-b48a-6767b337662d button.colab-df-convert');\n",
              "        buttonEl.style.display =\n",
              "          google.colab.kernel.accessAllowed ? 'block' : 'none';\n",
              "\n",
              "        async function convertToInteractive(key) {\n",
              "          const element = document.querySelector('#df-88c9738f-2f29-40d7-b48a-6767b337662d');\n",
              "          const dataTable =\n",
              "            await google.colab.kernel.invokeFunction('convertToInteractive',\n",
              "                                                     [key], {});\n",
              "          if (!dataTable) return;\n",
              "\n",
              "          const docLinkHtml = 'Like what you see? Visit the ' +\n",
              "            '<a target=\"_blank\" href=https://colab.research.google.com/notebooks/data_table.ipynb>data table notebook</a>'\n",
              "            + ' to learn more about interactive tables.';\n",
              "          element.innerHTML = '';\n",
              "          dataTable['output_type'] = 'display_data';\n",
              "          await google.colab.output.renderOutput(dataTable, element);\n",
              "          const docLink = document.createElement('div');\n",
              "          docLink.innerHTML = docLinkHtml;\n",
              "          element.appendChild(docLink);\n",
              "        }\n",
              "      </script>\n",
              "    </div>\n",
              "  </div>\n",
              "  "
            ]
          },
          "metadata": {}
        }
      ]
    },
    {
      "cell_type": "markdown",
      "source": [
        "# Estatisticas gerais da tabela"
      ],
      "metadata": {
        "id": "zFc_DUELcudL"
      }
    },
    {
      "cell_type": "code",
      "source": [
        "#Estatisticas\n",
        "df.isnull().sum()\n",
        "print(df.info())\n",
        "df.describe()"
      ],
      "metadata": {
        "colab": {
          "base_uri": "https://localhost:8080/",
          "height": 630
        },
        "id": "D5Vi6hdeQnDR",
        "outputId": "30fbab2f-13f8-433c-c60a-7be3e1c17199"
      },
      "execution_count": null,
      "outputs": [
        {
          "output_type": "stream",
          "name": "stdout",
          "text": [
            "<class 'pandas.core.frame.DataFrame'>\n",
            "RangeIndex: 300153 entries, 0 to 300152\n",
            "Data columns (total 11 columns):\n",
            " #   Column            Non-Null Count   Dtype  \n",
            "---  ------            --------------   -----  \n",
            " 0   airline           300153 non-null  object \n",
            " 1   flight            300153 non-null  object \n",
            " 2   source_city       300153 non-null  object \n",
            " 3   departure_time    300153 non-null  object \n",
            " 4   stops             300153 non-null  object \n",
            " 5   arrival_time      300153 non-null  object \n",
            " 6   destination_city  300153 non-null  object \n",
            " 7   class             300153 non-null  object \n",
            " 8   duration          300153 non-null  float64\n",
            " 9   days_left         300153 non-null  int64  \n",
            " 10  price             300153 non-null  int64  \n",
            "dtypes: float64(1), int64(2), object(8)\n",
            "memory usage: 25.2+ MB\n",
            "None\n"
          ]
        },
        {
          "output_type": "execute_result",
          "data": {
            "text/plain": [
              "            duration      days_left          price\n",
              "count  300153.000000  300153.000000  300153.000000\n",
              "mean       12.221021      26.004751   20889.660523\n",
              "std         7.191997      13.561004   22697.767366\n",
              "min         0.830000       1.000000    1105.000000\n",
              "25%         6.830000      15.000000    4783.000000\n",
              "50%        11.250000      26.000000    7425.000000\n",
              "75%        16.170000      38.000000   42521.000000\n",
              "max        49.830000      49.000000  123071.000000"
            ],
            "text/html": [
              "\n",
              "  <div id=\"df-4e64942d-5824-468f-86a8-8d753f2762cf\">\n",
              "    <div class=\"colab-df-container\">\n",
              "      <div>\n",
              "<style scoped>\n",
              "    .dataframe tbody tr th:only-of-type {\n",
              "        vertical-align: middle;\n",
              "    }\n",
              "\n",
              "    .dataframe tbody tr th {\n",
              "        vertical-align: top;\n",
              "    }\n",
              "\n",
              "    .dataframe thead th {\n",
              "        text-align: right;\n",
              "    }\n",
              "</style>\n",
              "<table border=\"1\" class=\"dataframe\">\n",
              "  <thead>\n",
              "    <tr style=\"text-align: right;\">\n",
              "      <th></th>\n",
              "      <th>duration</th>\n",
              "      <th>days_left</th>\n",
              "      <th>price</th>\n",
              "    </tr>\n",
              "  </thead>\n",
              "  <tbody>\n",
              "    <tr>\n",
              "      <th>count</th>\n",
              "      <td>300153.000000</td>\n",
              "      <td>300153.000000</td>\n",
              "      <td>300153.000000</td>\n",
              "    </tr>\n",
              "    <tr>\n",
              "      <th>mean</th>\n",
              "      <td>12.221021</td>\n",
              "      <td>26.004751</td>\n",
              "      <td>20889.660523</td>\n",
              "    </tr>\n",
              "    <tr>\n",
              "      <th>std</th>\n",
              "      <td>7.191997</td>\n",
              "      <td>13.561004</td>\n",
              "      <td>22697.767366</td>\n",
              "    </tr>\n",
              "    <tr>\n",
              "      <th>min</th>\n",
              "      <td>0.830000</td>\n",
              "      <td>1.000000</td>\n",
              "      <td>1105.000000</td>\n",
              "    </tr>\n",
              "    <tr>\n",
              "      <th>25%</th>\n",
              "      <td>6.830000</td>\n",
              "      <td>15.000000</td>\n",
              "      <td>4783.000000</td>\n",
              "    </tr>\n",
              "    <tr>\n",
              "      <th>50%</th>\n",
              "      <td>11.250000</td>\n",
              "      <td>26.000000</td>\n",
              "      <td>7425.000000</td>\n",
              "    </tr>\n",
              "    <tr>\n",
              "      <th>75%</th>\n",
              "      <td>16.170000</td>\n",
              "      <td>38.000000</td>\n",
              "      <td>42521.000000</td>\n",
              "    </tr>\n",
              "    <tr>\n",
              "      <th>max</th>\n",
              "      <td>49.830000</td>\n",
              "      <td>49.000000</td>\n",
              "      <td>123071.000000</td>\n",
              "    </tr>\n",
              "  </tbody>\n",
              "</table>\n",
              "</div>\n",
              "      <button class=\"colab-df-convert\" onclick=\"convertToInteractive('df-4e64942d-5824-468f-86a8-8d753f2762cf')\"\n",
              "              title=\"Convert this dataframe to an interactive table.\"\n",
              "              style=\"display:none;\">\n",
              "        \n",
              "  <svg xmlns=\"http://www.w3.org/2000/svg\" height=\"24px\"viewBox=\"0 0 24 24\"\n",
              "       width=\"24px\">\n",
              "    <path d=\"M0 0h24v24H0V0z\" fill=\"none\"/>\n",
              "    <path d=\"M18.56 5.44l.94 2.06.94-2.06 2.06-.94-2.06-.94-.94-2.06-.94 2.06-2.06.94zm-11 1L8.5 8.5l.94-2.06 2.06-.94-2.06-.94L8.5 2.5l-.94 2.06-2.06.94zm10 10l.94 2.06.94-2.06 2.06-.94-2.06-.94-.94-2.06-.94 2.06-2.06.94z\"/><path d=\"M17.41 7.96l-1.37-1.37c-.4-.4-.92-.59-1.43-.59-.52 0-1.04.2-1.43.59L10.3 9.45l-7.72 7.72c-.78.78-.78 2.05 0 2.83L4 21.41c.39.39.9.59 1.41.59.51 0 1.02-.2 1.41-.59l7.78-7.78 2.81-2.81c.8-.78.8-2.07 0-2.86zM5.41 20L4 18.59l7.72-7.72 1.47 1.35L5.41 20z\"/>\n",
              "  </svg>\n",
              "      </button>\n",
              "      \n",
              "  <style>\n",
              "    .colab-df-container {\n",
              "      display:flex;\n",
              "      flex-wrap:wrap;\n",
              "      gap: 12px;\n",
              "    }\n",
              "\n",
              "    .colab-df-convert {\n",
              "      background-color: #E8F0FE;\n",
              "      border: none;\n",
              "      border-radius: 50%;\n",
              "      cursor: pointer;\n",
              "      display: none;\n",
              "      fill: #1967D2;\n",
              "      height: 32px;\n",
              "      padding: 0 0 0 0;\n",
              "      width: 32px;\n",
              "    }\n",
              "\n",
              "    .colab-df-convert:hover {\n",
              "      background-color: #E2EBFA;\n",
              "      box-shadow: 0px 1px 2px rgba(60, 64, 67, 0.3), 0px 1px 3px 1px rgba(60, 64, 67, 0.15);\n",
              "      fill: #174EA6;\n",
              "    }\n",
              "\n",
              "    [theme=dark] .colab-df-convert {\n",
              "      background-color: #3B4455;\n",
              "      fill: #D2E3FC;\n",
              "    }\n",
              "\n",
              "    [theme=dark] .colab-df-convert:hover {\n",
              "      background-color: #434B5C;\n",
              "      box-shadow: 0px 1px 3px 1px rgba(0, 0, 0, 0.15);\n",
              "      filter: drop-shadow(0px 1px 2px rgba(0, 0, 0, 0.3));\n",
              "      fill: #FFFFFF;\n",
              "    }\n",
              "  </style>\n",
              "\n",
              "      <script>\n",
              "        const buttonEl =\n",
              "          document.querySelector('#df-4e64942d-5824-468f-86a8-8d753f2762cf button.colab-df-convert');\n",
              "        buttonEl.style.display =\n",
              "          google.colab.kernel.accessAllowed ? 'block' : 'none';\n",
              "\n",
              "        async function convertToInteractive(key) {\n",
              "          const element = document.querySelector('#df-4e64942d-5824-468f-86a8-8d753f2762cf');\n",
              "          const dataTable =\n",
              "            await google.colab.kernel.invokeFunction('convertToInteractive',\n",
              "                                                     [key], {});\n",
              "          if (!dataTable) return;\n",
              "\n",
              "          const docLinkHtml = 'Like what you see? Visit the ' +\n",
              "            '<a target=\"_blank\" href=https://colab.research.google.com/notebooks/data_table.ipynb>data table notebook</a>'\n",
              "            + ' to learn more about interactive tables.';\n",
              "          element.innerHTML = '';\n",
              "          dataTable['output_type'] = 'display_data';\n",
              "          await google.colab.output.renderOutput(dataTable, element);\n",
              "          const docLink = document.createElement('div');\n",
              "          docLink.innerHTML = docLinkHtml;\n",
              "          element.appendChild(docLink);\n",
              "        }\n",
              "      </script>\n",
              "    </div>\n",
              "  </div>\n",
              "  "
            ]
          },
          "metadata": {},
          "execution_count": 5
        }
      ]
    },
    {
      "cell_type": "markdown",
      "source": [
        "#Visualizacoes iniciais da tabela"
      ],
      "metadata": {
        "id": "Vgp_QmiMcyEU"
      }
    },
    {
      "cell_type": "code",
      "source": [
        "# Correlacoes entre as variaveis numericas\n",
        "sns.heatmap(df.corr(), annot=True, cmap=\"Wistia\")\n",
        "plt.show()"
      ],
      "metadata": {
        "colab": {
          "base_uri": "https://localhost:8080/",
          "height": 270
        },
        "id": "_UdPnF0HQ4Tf",
        "outputId": "92a1c06e-743e-4509-d79b-995f8823b2ff"
      },
      "execution_count": null,
      "outputs": [
        {
          "output_type": "display_data",
          "data": {
            "text/plain": [
              "<Figure size 432x288 with 2 Axes>"
            ],
            "image/png": "[encoded data removed]"
          },
          "metadata": {
            "needs_background": "light"
          }
        }
      ]
    },
    {
      "cell_type": "code",
      "source": [
        "#Histograma de preco\n",
        "plt.figure(figsize = (9,5))\n",
        "sns.histplot(x = 'price', data = df, kde = True)"
      ],
      "metadata": {
        "colab": {
          "base_uri": "https://localhost:8080/",
          "height": 351
        },
        "id": "nbjb9UAcSc6f",
        "outputId": "d73a35ff-b596-4a6e-96a4-93217aa0bb7d"
      },
      "execution_count": null,
      "outputs": [
        {
          "output_type": "execute_result",
          "data": {
            "text/plain": [
              "<matplotlib.axes._subplots.AxesSubplot at 0x7f90598ac410>"
            ]
          },
          "metadata": {},
          "execution_count": 12
        },
        {
          "output_type": "display_data",
          "data": {
            "text/plain": [
              "<Figure size 648x360 with 1 Axes>"
            ],
            "image/png": "[encoded data removed]"
          },
          "metadata": {
            "needs_background": "light"
          }
        }
      ]
    },
    {
      "cell_type": "code",
      "source": [
        "#Variacao do preco pela linha aerea\n",
        "plt.figure(figsize=(8, 4))\n",
        "sns.barplot(x='airline',y='price',data=df.sort_values(\"price\")).set_title('Airline prices based on the company',fontsize=20)"
      ],
      "metadata": {
        "colab": {
          "base_uri": "https://localhost:8080/",
          "height": 318
        },
        "id": "wZk9lR8MTFTp",
        "outputId": "685dec75-cdc3-47ba-f706-5e46c599f1e6"
      },
      "execution_count": null,
      "outputs": [
        {
          "output_type": "execute_result",
          "data": {
            "text/plain": [
              "Text(0.5, 1.0, 'Airline prices based on the company')"
            ]
          },
          "metadata": {},
          "execution_count": 16
        },
        {
          "output_type": "display_data",
          "data": {
            "text/plain": [
              "<Figure size 576x288 with 1 Axes>"
            ],
            "image/png": "[encoded data removed]"
          },
          "metadata": {
            "needs_background": "light"
          }
        }
      ]
    },
    {
      "cell_type": "code",
      "source": [
        "#Variacao da linha aerea de acordo com a linha aerea e a classe\n",
        "plt.figure(figsize=(8, 4))\n",
        "sns.barplot(x='airline',y='price',hue=\"class\",data=df.sort_values(\"price\")).set_title('Airline prices based on the class and company',fontsize=20)"
      ],
      "metadata": {
        "colab": {
          "base_uri": "https://localhost:8080/",
          "height": 318
        },
        "id": "4cDJTCX1ShaD",
        "outputId": "8cbcb382-7eef-41cd-8531-3cd7da2363b5"
      },
      "execution_count": null,
      "outputs": [
        {
          "output_type": "execute_result",
          "data": {
            "text/plain": [
              "Text(0.5, 1.0, 'Airline prices based on the class and company')"
            ]
          },
          "metadata": {},
          "execution_count": 17
        },
        {
          "output_type": "display_data",
          "data": {
            "text/plain": [
              "<Figure size 576x288 with 1 Axes>"
            ],
            "image/png": "[encoded data removed]"
          },
          "metadata": {
            "needs_background": "light"
          }
        }
      ]
    },
    {
      "cell_type": "code",
      "source": [
        "#Variacao do preco de acordo com dias de agendamento e classe\n",
        "plt.figure(figsize=(10,4))\n",
        "sns.lineplot(data=df,x='days_left',y='price',color='blue', hue='class')\n",
        "plt.title('Days Left For Departure Versus Ticket Price',fontsize=20)\n",
        "plt.xlabel('Days Left for Departure',fontsize=15)\n",
        "plt.ylabel('Price',fontsize=15)\n",
        "plt.show()"
      ],
      "metadata": {
        "colab": {
          "base_uri": "https://localhost:8080/",
          "height": 305
        },
        "id": "JP3AVtjBTl7J",
        "outputId": "d70e5eda-7634-4c45-d8b3-d93a731901bd"
      },
      "execution_count": null,
      "outputs": [
        {
          "output_type": "display_data",
          "data": {
            "text/plain": [
              "<Figure size 720x288 with 1 Axes>"
            ],
            "image/png": "[encoded data removed]"
          },
          "metadata": {
            "needs_background": "light"
          }
        }
      ]
    },
    {
      "cell_type": "code",
      "source": [
        "#Variacao do preco de acordo com dias de agendamento e linha aerea\n",
        "plt.figure(figsize=(10,4))\n",
        "sns.lineplot(data=df,x='days_left',y='price',color='blue',hue='airline')\n",
        "plt.title('Days Left For Departure Versus Ticket Price of each Airline',fontsize=15)\n",
        "plt.legend(fontsize=12)\n",
        "plt.xlabel('Days Left for Departure',fontsize=15)\n",
        "plt.ylabel('Price',fontsize=15)\n",
        "plt.show()"
      ],
      "metadata": {
        "colab": {
          "base_uri": "https://localhost:8080/",
          "height": 302
        },
        "id": "vR5R2437Ytsr",
        "outputId": "63ebc5e4-e2a9-42b2-a633-ab342dcb4b7e"
      },
      "execution_count": null,
      "outputs": [
        {
          "output_type": "display_data",
          "data": {
            "text/plain": [
              "<Figure size 720x288 with 1 Axes>"
            ],
            "image/png": "[encoded data removed]"
          },
          "metadata": {
            "needs_background": "light"
          }
        }
      ]
    },
    {
      "cell_type": "code",
      "source": [
        "plt.figure(figsize=(10,4))\n",
        "sns.lineplot(data=df,x='duration',y='price',color='blue')\n",
        "plt.title('Duration Versus Ticket Price',fontsize=20)\n",
        "plt.xlabel('Days Left for Departure',fontsize=15)\n",
        "plt.ylabel('Price',fontsize=15)\n",
        "plt.show()"
      ],
      "metadata": {
        "colab": {
          "base_uri": "https://localhost:8080/",
          "height": 305
        },
        "id": "95HRsTvxZeGB",
        "outputId": "f8595031-eb06-4be9-d8b6-7296f108d666"
      },
      "execution_count": null,
      "outputs": [
        {
          "output_type": "display_data",
          "data": {
            "text/plain": [
              "<Figure size 720x288 with 1 Axes>"
            ],
            "image/png": "[encoded data removed]"
          },
          "metadata": {
            "needs_background": "light"
          }
        }
      ]
    },
    {
      "cell_type": "code",
      "source": [
        "plt.figure(figsize = (18,5))\n",
        "plt.subplot(1,2,1)\n",
        "sns.barplot(data=df, y=\"price\", x=\"departure_time\",hue='departure_time').set_title(\"Airline prices based on the departure time\",fontsize=15)\n",
        "plt.subplot(1,2,2)\n",
        "sns.barplot(data=df, y=\"price\", x=\"arrival_time\",hue='arrival_time').set_title(\"Airline prices based on the arrival time\",fontsize=15)"
      ],
      "metadata": {
        "colab": {
          "base_uri": "https://localhost:8080/",
          "height": 371
        },
        "id": "4ncgCRN1sHI3",
        "outputId": "6682d9e5-2f50-4604-d1d9-78aa71a5dcb4"
      },
      "execution_count": null,
      "outputs": [
        {
          "output_type": "execute_result",
          "data": {
            "text/plain": [
              "Text(0.5, 1.0, 'Airline prices based on the arrival time')"
            ]
          },
          "metadata": {},
          "execution_count": 15
        },
        {
          "output_type": "display_data",
          "data": {
            "text/plain": [
              "<Figure size 1296x360 with 2 Axes>"
            ],
            "image/png": "[encoded data removed]"
          },
          "metadata": {
            "needs_background": "light"
          }
        }
      ]
    },
    {
      "cell_type": "code",
      "source": [
        "df_transform = df.copy()"
      ],
      "metadata": {
        "colab": {
          "base_uri": "https://localhost:8080/",
          "height": 424
        },
        "id": "lfaexp9HdC5y",
        "outputId": "51ee327f-dcb1-4624-b03b-5afc9c5d36fe"
      },
      "execution_count": null,
      "outputs": [
        {
          "output_type": "display_data",
          "data": {
            "text/plain": [
              "         airline source_city departure_time stops   arrival_time  \\\n",
              "0       SpiceJet       Delhi        Evening  zero          Night   \n",
              "1       SpiceJet       Delhi  Early_Morning  zero        Morning   \n",
              "2        AirAsia       Delhi  Early_Morning  zero  Early_Morning   \n",
              "3        Vistara       Delhi        Morning  zero      Afternoon   \n",
              "4        Vistara       Delhi        Morning  zero        Morning   \n",
              "...          ...         ...            ...   ...            ...   \n",
              "300148   Vistara     Chennai        Morning   one        Evening   \n",
              "300149   Vistara     Chennai      Afternoon   one          Night   \n",
              "300150   Vistara     Chennai  Early_Morning   one          Night   \n",
              "300151   Vistara     Chennai  Early_Morning   one        Evening   \n",
              "300152   Vistara     Chennai        Morning   one        Evening   \n",
              "\n",
              "       destination_city     class  duration  days_left  price  \n",
              "0                Mumbai   Economy      2.17          1   5953  \n",
              "1                Mumbai   Economy      2.33          1   5953  \n",
              "2                Mumbai   Economy      2.17          1   5956  \n",
              "3                Mumbai   Economy      2.25          1   5955  \n",
              "4                Mumbai   Economy      2.33          1   5955  \n",
              "...                 ...       ...       ...        ...    ...  \n",
              "300148        Hyderabad  Business     10.08         49  69265  \n",
              "300149        Hyderabad  Business     10.42         49  77105  \n",
              "300150        Hyderabad  Business     13.83         49  79099  \n",
              "300151        Hyderabad  Business     10.00         49  81585  \n",
              "300152        Hyderabad  Business     10.08         49  81585  \n",
              "\n",
              "[300153 rows x 10 columns]"
            ],
            "text/html": [
              "\n",
              "  <div id=\"df-980f04b1-6289-44f9-937d-e2ff482a3fd0\">\n",
              "    <div class=\"colab-df-container\">\n",
              "      <div>\n",
              "<style scoped>\n",
              "    .dataframe tbody tr th:only-of-type {\n",
              "        vertical-align: middle;\n",
              "    }\n",
              "\n",
              "    .dataframe tbody tr th {\n",
              "        vertical-align: top;\n",
              "    }\n",
              "\n",
              "    .dataframe thead th {\n",
              "        text-align: right;\n",
              "    }\n",
              "</style>\n",
              "<table border=\"1\" class=\"dataframe\">\n",
              "  <thead>\n",
              "    <tr style=\"text-align: right;\">\n",
              "      <th></th>\n",
              "      <th>airline</th>\n",
              "      <th>source_city</th>\n",
              "      <th>departure_time</th>\n",
              "      <th>stops</th>\n",
              "      <th>arrival_time</th>\n",
              "      <th>destination_city</th>\n",
              "      <th>class</th>\n",
              "      <th>duration</th>\n",
              "      <th>days_left</th>\n",
              "      <th>price</th>\n",
              "    </tr>\n",
              "  </thead>\n",
              "  <tbody>\n",
              "    <tr>\n",
              "      <th>0</th>\n",
              "      <td>SpiceJet</td>\n",
              "      <td>Delhi</td>\n",
              "      <td>Evening</td>\n",
              "      <td>zero</td>\n",
              "      <td>Night</td>\n",
              "      <td>Mumbai</td>\n",
              "      <td>Economy</td>\n",
              "      <td>2.17</td>\n",
              "      <td>1</td>\n",
              "      <td>5953</td>\n",
              "    </tr>\n",
              "    <tr>\n",
              "      <th>1</th>\n",
              "      <td>SpiceJet</td>\n",
              "      <td>Delhi</td>\n",
              "      <td>Early_Morning</td>\n",
              "      <td>zero</td>\n",
              "      <td>Morning</td>\n",
              "      <td>Mumbai</td>\n",
              "      <td>Economy</td>\n",
              "      <td>2.33</td>\n",
              "      <td>1</td>\n",
              "      <td>5953</td>\n",
              "    </tr>\n",
              "    <tr>\n",
              "      <th>2</th>\n",
              "      <td>AirAsia</td>\n",
              "      <td>Delhi</td>\n",
              "      <td>Early_Morning</td>\n",
              "      <td>zero</td>\n",
              "      <td>Early_Morning</td>\n",
              "      <td>Mumbai</td>\n",
              "      <td>Economy</td>\n",
              "      <td>2.17</td>\n",
              "      <td>1</td>\n",
              "      <td>5956</td>\n",
              "    </tr>\n",
              "    <tr>\n",
              "      <th>3</th>\n",
              "      <td>Vistara</td>\n",
              "      <td>Delhi</td>\n",
              "      <td>Morning</td>\n",
              "      <td>zero</td>\n",
              "      <td>Afternoon</td>\n",
              "      <td>Mumbai</td>\n",
              "      <td>Economy</td>\n",
              "      <td>2.25</td>\n",
              "      <td>1</td>\n",
              "      <td>5955</td>\n",
              "    </tr>\n",
              "    <tr>\n",
              "      <th>4</th>\n",
              "      <td>Vistara</td>\n",
              "      <td>Delhi</td>\n",
              "      <td>Morning</td>\n",
              "      <td>zero</td>\n",
              "      <td>Morning</td>\n",
              "      <td>Mumbai</td>\n",
              "      <td>Economy</td>\n",
              "      <td>2.33</td>\n",
              "      <td>1</td>\n",
              "      <td>5955</td>\n",
              "    </tr>\n",
              "    <tr>\n",
              "      <th>...</th>\n",
              "      <td>...</td>\n",
              "      <td>...</td>\n",
              "      <td>...</td>\n",
              "      <td>...</td>\n",
              "      <td>...</td>\n",
              "      <td>...</td>\n",
              "      <td>...</td>\n",
              "      <td>...</td>\n",
              "      <td>...</td>\n",
              "      <td>...</td>\n",
              "    </tr>\n",
              "    <tr>\n",
              "      <th>300148</th>\n",
              "      <td>Vistara</td>\n",
              "      <td>Chennai</td>\n",
              "      <td>Morning</td>\n",
              "      <td>one</td>\n",
              "      <td>Evening</td>\n",
              "      <td>Hyderabad</td>\n",
              "      <td>Business</td>\n",
              "      <td>10.08</td>\n",
              "      <td>49</td>\n",
              "      <td>69265</td>\n",
              "    </tr>\n",
              "    <tr>\n",
              "      <th>300149</th>\n",
              "      <td>Vistara</td>\n",
              "      <td>Chennai</td>\n",
              "      <td>Afternoon</td>\n",
              "      <td>one</td>\n",
              "      <td>Night</td>\n",
              "      <td>Hyderabad</td>\n",
              "      <td>Business</td>\n",
              "      <td>10.42</td>\n",
              "      <td>49</td>\n",
              "      <td>77105</td>\n",
              "    </tr>\n",
              "    <tr>\n",
              "      <th>300150</th>\n",
              "      <td>Vistara</td>\n",
              "      <td>Chennai</td>\n",
              "      <td>Early_Morning</td>\n",
              "      <td>one</td>\n",
              "      <td>Night</td>\n",
              "      <td>Hyderabad</td>\n",
              "      <td>Business</td>\n",
              "      <td>13.83</td>\n",
              "      <td>49</td>\n",
              "      <td>79099</td>\n",
              "    </tr>\n",
              "    <tr>\n",
              "      <th>300151</th>\n",
              "      <td>Vistara</td>\n",
              "      <td>Chennai</td>\n",
              "      <td>Early_Morning</td>\n",
              "      <td>one</td>\n",
              "      <td>Evening</td>\n",
              "      <td>Hyderabad</td>\n",
              "      <td>Business</td>\n",
              "      <td>10.00</td>\n",
              "      <td>49</td>\n",
              "      <td>81585</td>\n",
              "    </tr>\n",
              "    <tr>\n",
              "      <th>300152</th>\n",
              "      <td>Vistara</td>\n",
              "      <td>Chennai</td>\n",
              "      <td>Morning</td>\n",
              "      <td>one</td>\n",
              "      <td>Evening</td>\n",
              "      <td>Hyderabad</td>\n",
              "      <td>Business</td>\n",
              "      <td>10.08</td>\n",
              "      <td>49</td>\n",
              "      <td>81585</td>\n",
              "    </tr>\n",
              "  </tbody>\n",
              "</table>\n",
              "<p>300153 rows × 10 columns</p>\n",
              "</div>\n",
              "      <button class=\"colab-df-convert\" onclick=\"convertToInteractive('df-980f04b1-6289-44f9-937d-e2ff482a3fd0')\"\n",
              "              title=\"Convert this dataframe to an interactive table.\"\n",
              "              style=\"display:none;\">\n",
              "        \n",
              "  <svg xmlns=\"http://www.w3.org/2000/svg\" height=\"24px\"viewBox=\"0 0 24 24\"\n",
              "       width=\"24px\">\n",
              "    <path d=\"M0 0h24v24H0V0z\" fill=\"none\"/>\n",
              "    <path d=\"M18.56 5.44l.94 2.06.94-2.06 2.06-.94-2.06-.94-.94-2.06-.94 2.06-2.06.94zm-11 1L8.5 8.5l.94-2.06 2.06-.94-2.06-.94L8.5 2.5l-.94 2.06-2.06.94zm10 10l.94 2.06.94-2.06 2.06-.94-2.06-.94-.94-2.06-.94 2.06-2.06.94z\"/><path d=\"M17.41 7.96l-1.37-1.37c-.4-.4-.92-.59-1.43-.59-.52 0-1.04.2-1.43.59L10.3 9.45l-7.72 7.72c-.78.78-.78 2.05 0 2.83L4 21.41c.39.39.9.59 1.41.59.51 0 1.02-.2 1.41-.59l7.78-7.78 2.81-2.81c.8-.78.8-2.07 0-2.86zM5.41 20L4 18.59l7.72-7.72 1.47 1.35L5.41 20z\"/>\n",
              "  </svg>\n",
              "      </button>\n",
              "      \n",
              "  <style>\n",
              "    .colab-df-container {\n",
              "      display:flex;\n",
              "      flex-wrap:wrap;\n",
              "      gap: 12px;\n",
              "    }\n",
              "\n",
              "    .colab-df-convert {\n",
              "      background-color: #E8F0FE;\n",
              "      border: none;\n",
              "      border-radius: 50%;\n",
              "      cursor: pointer;\n",
              "      display: none;\n",
              "      fill: #1967D2;\n",
              "      height: 32px;\n",
              "      padding: 0 0 0 0;\n",
              "      width: 32px;\n",
              "    }\n",
              "\n",
              "    .colab-df-convert:hover {\n",
              "      background-color: #E2EBFA;\n",
              "      box-shadow: 0px 1px 2px rgba(60, 64, 67, 0.3), 0px 1px 3px 1px rgba(60, 64, 67, 0.15);\n",
              "      fill: #174EA6;\n",
              "    }\n",
              "\n",
              "    [theme=dark] .colab-df-convert {\n",
              "      background-color: #3B4455;\n",
              "      fill: #D2E3FC;\n",
              "    }\n",
              "\n",
              "    [theme=dark] .colab-df-convert:hover {\n",
              "      background-color: #434B5C;\n",
              "      box-shadow: 0px 1px 3px 1px rgba(0, 0, 0, 0.15);\n",
              "      filter: drop-shadow(0px 1px 2px rgba(0, 0, 0, 0.3));\n",
              "      fill: #FFFFFF;\n",
              "    }\n",
              "  </style>\n",
              "\n",
              "      <script>\n",
              "        const buttonEl =\n",
              "          document.querySelector('#df-980f04b1-6289-44f9-937d-e2ff482a3fd0 button.colab-df-convert');\n",
              "        buttonEl.style.display =\n",
              "          google.colab.kernel.accessAllowed ? 'block' : 'none';\n",
              "\n",
              "        async function convertToInteractive(key) {\n",
              "          const element = document.querySelector('#df-980f04b1-6289-44f9-937d-e2ff482a3fd0');\n",
              "          const dataTable =\n",
              "            await google.colab.kernel.invokeFunction('convertToInteractive',\n",
              "                                                     [key], {});\n",
              "          if (!dataTable) return;\n",
              "\n",
              "          const docLinkHtml = 'Like what you see? Visit the ' +\n",
              "            '<a target=\"_blank\" href=https://colab.research.google.com/notebooks/data_table.ipynb>data table notebook</a>'\n",
              "            + ' to learn more about interactive tables.';\n",
              "          element.innerHTML = '';\n",
              "          dataTable['output_type'] = 'display_data';\n",
              "          await google.colab.output.renderOutput(dataTable, element);\n",
              "          const docLink = document.createElement('div');\n",
              "          docLink.innerHTML = docLinkHtml;\n",
              "          element.appendChild(docLink);\n",
              "        }\n",
              "      </script>\n",
              "    </div>\n",
              "  </div>\n",
              "  "
            ]
          },
          "metadata": {}
        }
      ]
    },
    {
      "cell_type": "markdown",
      "source": [
        "# Transformações na tabela\n",
        "\n",
        "1 - Funcao recebe dataframe, coluna a ser transformada e valores. Ela troca as strings pelas labels\n",
        "\n",
        "2 - Colocar stops na funcao \n",
        "\n",
        "3 - Colocar departure_time e arrival_time na funcao em ordem de manha ate a noite\n",
        "\n",
        "4 - Colocar airlines na funcao\n",
        "\n",
        "5 - Colocar class na funcao"
      ],
      "metadata": {
        "id": "xl2qQFyWc4Li"
      }
    },
    {
      "cell_type": "code",
      "source": [
        "def label_column(df ,column, list_values):\n",
        "    for idx, data in enumerate(list_values):\n",
        "        df.loc[(df[column] == data), column] = idx\n",
        "    return df"
      ],
      "metadata": {
        "id": "Ysv-gCBTc147"
      },
      "execution_count": null,
      "outputs": []
    },
    {
      "cell_type": "code",
      "source": [
        "#Transformar colunas em label em uma ordem pré-estabelecida\n",
        "df_transform = label_column(df_transform, 'stops', ['zero', 'one', 'two_or_more'])\n",
        "df_transform = label_column(df_transform, 'departure_time', ['Early_Morning', 'Morning', 'Afternoon', 'Evening', 'Night', 'Late_Night'])\n",
        "df_transform = label_column(df_transform, 'arrival_time', ['Early_Morning', 'Morning', 'Afternoon', 'Evening', 'Night', 'Late_Night'])\n",
        "df_transform = label_column(df_transform, 'class', ['Economy', 'Business'])\n",
        "# Transformar colunas em label sem preocupar com ordem\n",
        "for column in ['airline', 'source_city', 'destination_city']:\n",
        "    df_transform = label_column(df_transform, column, df_transform[column].unique())"
      ],
      "metadata": {
        "id": "9g2IN8JkXq7L"
      },
      "execution_count": null,
      "outputs": []
    },
    {
      "cell_type": "code",
      "source": [
        "display(df_transform)"
      ],
      "metadata": {
        "colab": {
          "base_uri": "https://localhost:8080/",
          "height": 424
        },
        "id": "8SqL7H1aeB0l",
        "outputId": "33e679a0-a9f5-4bbc-ff0f-9f352c6aaaa1"
      },
      "execution_count": null,
      "outputs": [
        {
          "output_type": "display_data",
          "data": {
            "text/plain": [
              "       airline source_city departure_time stops arrival_time destination_city  \\\n",
              "0            0           0              3     0            4                0   \n",
              "1            0           0              0     0            1                0   \n",
              "2            1           0              0     0            0                0   \n",
              "3            2           0              1     0            2                0   \n",
              "4            2           0              1     0            1                0   \n",
              "...        ...         ...            ...   ...          ...              ...   \n",
              "300148       2           5              1     1            3                3   \n",
              "300149       2           5              2     1            4                3   \n",
              "300150       2           5              0     1            4                3   \n",
              "300151       2           5              0     1            3                3   \n",
              "300152       2           5              1     1            3                3   \n",
              "\n",
              "       class  duration  days_left  price  \n",
              "0          0      2.17          1   5953  \n",
              "1          0      2.33          1   5953  \n",
              "2          0      2.17          1   5956  \n",
              "3          0      2.25          1   5955  \n",
              "4          0      2.33          1   5955  \n",
              "...      ...       ...        ...    ...  \n",
              "300148     1     10.08         49  69265  \n",
              "300149     1     10.42         49  77105  \n",
              "300150     1     13.83         49  79099  \n",
              "300151     1     10.00         49  81585  \n",
              "300152     1     10.08         49  81585  \n",
              "\n",
              "[300153 rows x 10 columns]"
            ],
            "text/html": [
              "\n",
              "  <div id=\"df-c8989427-90c0-45ac-bdf9-f216b875598a\">\n",
              "    <div class=\"colab-df-container\">\n",
              "      <div>\n",
              "<style scoped>\n",
              "    .dataframe tbody tr th:only-of-type {\n",
              "        vertical-align: middle;\n",
              "    }\n",
              "\n",
              "    .dataframe tbody tr th {\n",
              "        vertical-align: top;\n",
              "    }\n",
              "\n",
              "    .dataframe thead th {\n",
              "        text-align: right;\n",
              "    }\n",
              "</style>\n",
              "<table border=\"1\" class=\"dataframe\">\n",
              "  <thead>\n",
              "    <tr style=\"text-align: right;\">\n",
              "      <th></th>\n",
              "      <th>airline</th>\n",
              "      <th>source_city</th>\n",
              "      <th>departure_time</th>\n",
              "      <th>stops</th>\n",
              "      <th>arrival_time</th>\n",
              "      <th>destination_city</th>\n",
              "      <th>class</th>\n",
              "      <th>duration</th>\n",
              "      <th>days_left</th>\n",
              "      <th>price</th>\n",
              "    </tr>\n",
              "  </thead>\n",
              "  <tbody>\n",
              "    <tr>\n",
              "      <th>0</th>\n",
              "      <td>0</td>\n",
              "      <td>0</td>\n",
              "      <td>3</td>\n",
              "      <td>0</td>\n",
              "      <td>4</td>\n",
              "      <td>0</td>\n",
              "      <td>0</td>\n",
              "      <td>2.17</td>\n",
              "      <td>1</td>\n",
              "      <td>5953</td>\n",
              "    </tr>\n",
              "    <tr>\n",
              "      <th>1</th>\n",
              "      <td>0</td>\n",
              "      <td>0</td>\n",
              "      <td>0</td>\n",
              "      <td>0</td>\n",
              "      <td>1</td>\n",
              "      <td>0</td>\n",
              "      <td>0</td>\n",
              "      <td>2.33</td>\n",
              "      <td>1</td>\n",
              "      <td>5953</td>\n",
              "    </tr>\n",
              "    <tr>\n",
              "      <th>2</th>\n",
              "      <td>1</td>\n",
              "      <td>0</td>\n",
              "      <td>0</td>\n",
              "      <td>0</td>\n",
              "      <td>0</td>\n",
              "      <td>0</td>\n",
              "      <td>0</td>\n",
              "      <td>2.17</td>\n",
              "      <td>1</td>\n",
              "      <td>5956</td>\n",
              "    </tr>\n",
              "    <tr>\n",
              "      <th>3</th>\n",
              "      <td>2</td>\n",
              "      <td>0</td>\n",
              "      <td>1</td>\n",
              "      <td>0</td>\n",
              "      <td>2</td>\n",
              "      <td>0</td>\n",
              "      <td>0</td>\n",
              "      <td>2.25</td>\n",
              "      <td>1</td>\n",
              "      <td>5955</td>\n",
              "    </tr>\n",
              "    <tr>\n",
              "      <th>4</th>\n",
              "      <td>2</td>\n",
              "      <td>0</td>\n",
              "      <td>1</td>\n",
              "      <td>0</td>\n",
              "      <td>1</td>\n",
              "      <td>0</td>\n",
              "      <td>0</td>\n",
              "      <td>2.33</td>\n",
              "      <td>1</td>\n",
              "      <td>5955</td>\n",
              "    </tr>\n",
              "    <tr>\n",
              "      <th>...</th>\n",
              "      <td>...</td>\n",
              "      <td>...</td>\n",
              "      <td>...</td>\n",
              "      <td>...</td>\n",
              "      <td>...</td>\n",
              "      <td>...</td>\n",
              "      <td>...</td>\n",
              "      <td>...</td>\n",
              "      <td>...</td>\n",
              "      <td>...</td>\n",
              "    </tr>\n",
              "    <tr>\n",
              "      <th>300148</th>\n",
              "      <td>2</td>\n",
              "      <td>5</td>\n",
              "      <td>1</td>\n",
              "      <td>1</td>\n",
              "      <td>3</td>\n",
              "      <td>3</td>\n",
              "      <td>1</td>\n",
              "      <td>10.08</td>\n",
              "      <td>49</td>\n",
              "      <td>69265</td>\n",
              "    </tr>\n",
              "    <tr>\n",
              "      <th>300149</th>\n",
              "      <td>2</td>\n",
              "      <td>5</td>\n",
              "      <td>2</td>\n",
              "      <td>1</td>\n",
              "      <td>4</td>\n",
              "      <td>3</td>\n",
              "      <td>1</td>\n",
              "      <td>10.42</td>\n",
              "      <td>49</td>\n",
              "      <td>77105</td>\n",
              "    </tr>\n",
              "    <tr>\n",
              "      <th>300150</th>\n",
              "      <td>2</td>\n",
              "      <td>5</td>\n",
              "      <td>0</td>\n",
              "      <td>1</td>\n",
              "      <td>4</td>\n",
              "      <td>3</td>\n",
              "      <td>1</td>\n",
              "      <td>13.83</td>\n",
              "      <td>49</td>\n",
              "      <td>79099</td>\n",
              "    </tr>\n",
              "    <tr>\n",
              "      <th>300151</th>\n",
              "      <td>2</td>\n",
              "      <td>5</td>\n",
              "      <td>0</td>\n",
              "      <td>1</td>\n",
              "      <td>3</td>\n",
              "      <td>3</td>\n",
              "      <td>1</td>\n",
              "      <td>10.00</td>\n",
              "      <td>49</td>\n",
              "      <td>81585</td>\n",
              "    </tr>\n",
              "    <tr>\n",
              "      <th>300152</th>\n",
              "      <td>2</td>\n",
              "      <td>5</td>\n",
              "      <td>1</td>\n",
              "      <td>1</td>\n",
              "      <td>3</td>\n",
              "      <td>3</td>\n",
              "      <td>1</td>\n",
              "      <td>10.08</td>\n",
              "      <td>49</td>\n",
              "      <td>81585</td>\n",
              "    </tr>\n",
              "  </tbody>\n",
              "</table>\n",
              "<p>300153 rows × 10 columns</p>\n",
              "</div>\n",
              "      <button class=\"colab-df-convert\" onclick=\"convertToInteractive('df-c8989427-90c0-45ac-bdf9-f216b875598a')\"\n",
              "              title=\"Convert this dataframe to an interactive table.\"\n",
              "              style=\"display:none;\">\n",
              "        \n",
              "  <svg xmlns=\"http://www.w3.org/2000/svg\" height=\"24px\"viewBox=\"0 0 24 24\"\n",
              "       width=\"24px\">\n",
              "    <path d=\"M0 0h24v24H0V0z\" fill=\"none\"/>\n",
              "    <path d=\"M18.56 5.44l.94 2.06.94-2.06 2.06-.94-2.06-.94-.94-2.06-.94 2.06-2.06.94zm-11 1L8.5 8.5l.94-2.06 2.06-.94-2.06-.94L8.5 2.5l-.94 2.06-2.06.94zm10 10l.94 2.06.94-2.06 2.06-.94-2.06-.94-.94-2.06-.94 2.06-2.06.94z\"/><path d=\"M17.41 7.96l-1.37-1.37c-.4-.4-.92-.59-1.43-.59-.52 0-1.04.2-1.43.59L10.3 9.45l-7.72 7.72c-.78.78-.78 2.05 0 2.83L4 21.41c.39.39.9.59 1.41.59.51 0 1.02-.2 1.41-.59l7.78-7.78 2.81-2.81c.8-.78.8-2.07 0-2.86zM5.41 20L4 18.59l7.72-7.72 1.47 1.35L5.41 20z\"/>\n",
              "  </svg>\n",
              "      </button>\n",
              "      \n",
              "  <style>\n",
              "    .colab-df-container {\n",
              "      display:flex;\n",
              "      flex-wrap:wrap;\n",
              "      gap: 12px;\n",
              "    }\n",
              "\n",
              "    .colab-df-convert {\n",
              "      background-color: #E8F0FE;\n",
              "      border: none;\n",
              "      border-radius: 50%;\n",
              "      cursor: pointer;\n",
              "      display: none;\n",
              "      fill: #1967D2;\n",
              "      height: 32px;\n",
              "      padding: 0 0 0 0;\n",
              "      width: 32px;\n",
              "    }\n",
              "\n",
              "    .colab-df-convert:hover {\n",
              "      background-color: #E2EBFA;\n",
              "      box-shadow: 0px 1px 2px rgba(60, 64, 67, 0.3), 0px 1px 3px 1px rgba(60, 64, 67, 0.15);\n",
              "      fill: #174EA6;\n",
              "    }\n",
              "\n",
              "    [theme=dark] .colab-df-convert {\n",
              "      background-color: #3B4455;\n",
              "      fill: #D2E3FC;\n",
              "    }\n",
              "\n",
              "    [theme=dark] .colab-df-convert:hover {\n",
              "      background-color: #434B5C;\n",
              "      box-shadow: 0px 1px 3px 1px rgba(0, 0, 0, 0.15);\n",
              "      filter: drop-shadow(0px 1px 2px rgba(0, 0, 0, 0.3));\n",
              "      fill: #FFFFFF;\n",
              "    }\n",
              "  </style>\n",
              "\n",
              "      <script>\n",
              "        const buttonEl =\n",
              "          document.querySelector('#df-c8989427-90c0-45ac-bdf9-f216b875598a button.colab-df-convert');\n",
              "        buttonEl.style.display =\n",
              "          google.colab.kernel.accessAllowed ? 'block' : 'none';\n",
              "\n",
              "        async function convertToInteractive(key) {\n",
              "          const element = document.querySelector('#df-c8989427-90c0-45ac-bdf9-f216b875598a');\n",
              "          const dataTable =\n",
              "            await google.colab.kernel.invokeFunction('convertToInteractive',\n",
              "                                                     [key], {});\n",
              "          if (!dataTable) return;\n",
              "\n",
              "          const docLinkHtml = 'Like what you see? Visit the ' +\n",
              "            '<a target=\"_blank\" href=https://colab.research.google.com/notebooks/data_table.ipynb>data table notebook</a>'\n",
              "            + ' to learn more about interactive tables.';\n",
              "          element.innerHTML = '';\n",
              "          dataTable['output_type'] = 'display_data';\n",
              "          await google.colab.output.renderOutput(dataTable, element);\n",
              "          const docLink = document.createElement('div');\n",
              "          docLink.innerHTML = docLinkHtml;\n",
              "          element.appendChild(docLink);\n",
              "        }\n",
              "      </script>\n",
              "    </div>\n",
              "  </div>\n",
              "  "
            ]
          },
          "metadata": {}
        }
      ]
    },
    {
      "cell_type": "code",
      "source": [
        "# Download da tabela\n",
        "df_transform.to_csv('clean_transform.csv', index=False, header=True)\n",
        "from google.colab import files\n",
        "files.download('clean_transform.csv')"
      ],
      "metadata": {
        "colab": {
          "base_uri": "https://localhost:8080/",
          "height": 17
        },
        "id": "Du8xAe89lUOX",
        "outputId": "68f031ae-9d04-4f32-d962-0e9eb50ec082"
      },
      "execution_count": null,
      "outputs": [
        {
          "output_type": "display_data",
          "data": {
            "text/plain": [
              "<IPython.core.display.Javascript object>"
            ],
            "application/javascript": [
              "\n",
              "    async function download(id, filename, size) {\n",
              "      if (!google.colab.kernel.accessAllowed) {\n",
              "        return;\n",
              "      }\n",
              "      const div = document.createElement('div');\n",
              "      const label = document.createElement('label');\n",
              "      label.textContent = `Downloading \"${filename}\": `;\n",
              "      div.appendChild(label);\n",
              "      const progress = document.createElement('progress');\n",
              "      progress.max = size;\n",
              "      div.appendChild(progress);\n",
              "      document.body.appendChild(div);\n",
              "\n",
              "      const buffers = [];\n",
              "      let downloaded = 0;\n",
              "\n",
              "      const channel = await google.colab.kernel.comms.open(id);\n",
              "      // Send a message to notify the kernel that we're ready.\n",
              "      channel.send({})\n",
              "\n",
              "      for await (const message of channel.messages) {\n",
              "        // Send a message to notify the kernel that we're ready.\n",
              "        channel.send({})\n",
              "        if (message.buffers) {\n",
              "          for (const buffer of message.buffers) {\n",
              "            buffers.push(buffer);\n",
              "            downloaded += buffer.byteLength;\n",
              "            progress.value = downloaded;\n",
              "          }\n",
              "        }\n",
              "      }\n",
              "      const blob = new Blob(buffers, {type: 'application/binary'});\n",
              "      const a = document.createElement('a');\n",
              "      a.href = window.URL.createObjectURL(blob);\n",
              "      a.download = filename;\n",
              "      div.appendChild(a);\n",
              "      a.click();\n",
              "      div.remove();\n",
              "    }\n",
              "  "
            ]
          },
          "metadata": {}
        },
        {
          "output_type": "display_data",
          "data": {
            "text/plain": [
              "<IPython.core.display.Javascript object>"
            ],
            "application/javascript": [
              "download(\"download_33a8b4b5-46e0-4044-a956-0ecfc8629d6e\", \"clean_transform.csv\", 8308204)"
            ]
          },
          "metadata": {}
        }
      ]
    }
  ]
}